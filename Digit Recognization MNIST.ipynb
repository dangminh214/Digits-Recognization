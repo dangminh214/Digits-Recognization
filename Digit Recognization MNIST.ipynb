{
 "cells": [
  {
   "cell_type": "code",
   "execution_count": 6,
   "id": "65d0d93e",
   "metadata": {
    "_cell_guid": "b1076dfc-b9ad-4769-8c92-a6c4dae69d19",
    "_uuid": "8f2839f25d086af736a60e9eeb907d3b93b6e0e5",
    "papermill": {
     "duration": 0.897979,
     "end_time": "2024-06-14T13:44:35.698221",
     "exception": false,
     "start_time": "2024-06-14T13:44:34.800242",
     "status": "completed"
    },
    "tags": []
   },
   "outputs": [
    {
     "name": "stdout",
     "output_type": "stream",
     "text": [
      "dataset\\sample_submission.csv\n",
      "dataset\\test.csv\n",
      "dataset\\train.csv\n"
     ]
    }
   ],
   "source": [
    "# This Python 3 environment comes with many helpful analytics libraries installed\n",
    "# It is defined by the kaggle/python Docker image: https://github.com/kaggle/docker-python\n",
    "# For example, here's several helpful packages to load\n",
    "\n",
    "import numpy as np # linear algebra\n",
    "import pandas as pd # data processing, CSV file I/O (e.g. pd.read_csv)\n",
    "\n",
    "# Input data files are available in the read-only \"../input/\" directory\n",
    "# For example, running this (by clicking run or pressing Shift+Enter) will list all files under the input directory\n",
    "\n",
    "import os\n",
    "for dirname, _, filenames in os.walk('dataset'):\n",
    "    for filename in filenames:\n",
    "        print(os.path.join(dirname, filename))\n",
    "\n",
    "# You can write up to 20GB to the current directory (/kaggle/working/) that gets preserved as output when you create a version using \"Save & Run All\" \n",
    "# You can also write temporary files to /kaggle/temp/, but they won't be saved outside of the current session"
   ]
  },
  {
   "cell_type": "code",
   "execution_count": 13,
   "id": "f990d11b",
   "metadata": {
    "papermill": {
     "duration": 84.8733,
     "end_time": "2024-06-14T13:46:00.574388",
     "exception": false,
     "start_time": "2024-06-14T13:44:35.701088",
     "status": "completed"
    },
    "tags": []
   },
   "outputs": [
    {
     "name": "stderr",
     "output_type": "stream",
     "text": [
      "C:\\Users\\dangm\\anaconda3\\Lib\\site-packages\\keras\\src\\layers\\reshaping\\flatten.py:37: UserWarning: Do not pass an `input_shape`/`input_dim` argument to a layer. When using Sequential models, prefer using an `Input(shape)` object as the first layer in the model instead.\n",
      "  super().__init__(**kwargs)\n"
     ]
    },
    {
     "name": "stdout",
     "output_type": "stream",
     "text": [
      "Epoch 1/20\n",
      "\u001b[1m1157/1157\u001b[0m \u001b[32m━━━━━━━━━━━━━━━━━━━━\u001b[0m\u001b[37m\u001b[0m \u001b[1m4s\u001b[0m 1ms/step - accuracy: 0.6638 - loss: 1.1005 - val_accuracy: 0.8678 - val_loss: 0.4547\n",
      "Epoch 2/20\n",
      "\u001b[1m1157/1157\u001b[0m \u001b[32m━━━━━━━━━━━━━━━━━━━━\u001b[0m\u001b[37m\u001b[0m \u001b[1m14s\u001b[0m 12ms/step - accuracy: 0.8808 - loss: 0.4176 - val_accuracy: 0.8918 - val_loss: 0.3804\n",
      "Epoch 3/20\n",
      "\u001b[1m1157/1157\u001b[0m \u001b[32m━━━━━━━━━━━━━━━━━━━━\u001b[0m\u001b[37m\u001b[0m \u001b[1m2s\u001b[0m 1ms/step - accuracy: 0.8954 - loss: 0.3563 - val_accuracy: 0.9026 - val_loss: 0.3409\n",
      "Epoch 4/20\n",
      "\u001b[1m1157/1157\u001b[0m \u001b[32m━━━━━━━━━━━━━━━━━━━━\u001b[0m\u001b[37m\u001b[0m \u001b[1m1s\u001b[0m 1ms/step - accuracy: 0.9061 - loss: 0.3257 - val_accuracy: 0.9090 - val_loss: 0.3196\n",
      "Epoch 5/20\n",
      "\u001b[1m1157/1157\u001b[0m \u001b[32m━━━━━━━━━━━━━━━━━━━━\u001b[0m\u001b[37m\u001b[0m \u001b[1m1s\u001b[0m 1ms/step - accuracy: 0.9134 - loss: 0.2914 - val_accuracy: 0.9140 - val_loss: 0.3060\n",
      "Epoch 6/20\n",
      "\u001b[1m1157/1157\u001b[0m \u001b[32m━━━━━━━━━━━━━━━━━━━━\u001b[0m\u001b[37m\u001b[0m \u001b[1m1s\u001b[0m 1ms/step - accuracy: 0.9186 - loss: 0.2848 - val_accuracy: 0.9106 - val_loss: 0.2995\n",
      "Epoch 7/20\n",
      "\u001b[1m1157/1157\u001b[0m \u001b[32m━━━━━━━━━━━━━━━━━━━━\u001b[0m\u001b[37m\u001b[0m \u001b[1m1s\u001b[0m 1ms/step - accuracy: 0.9229 - loss: 0.2634 - val_accuracy: 0.9170 - val_loss: 0.2899\n",
      "Epoch 8/20\n",
      "\u001b[1m1157/1157\u001b[0m \u001b[32m━━━━━━━━━━━━━━━━━━━━\u001b[0m\u001b[37m\u001b[0m \u001b[1m1s\u001b[0m 1ms/step - accuracy: 0.9255 - loss: 0.2508 - val_accuracy: 0.9230 - val_loss: 0.2734\n",
      "Epoch 9/20\n",
      "\u001b[1m1157/1157\u001b[0m \u001b[32m━━━━━━━━━━━━━━━━━━━━\u001b[0m\u001b[37m\u001b[0m \u001b[1m1s\u001b[0m 1ms/step - accuracy: 0.9298 - loss: 0.2395 - val_accuracy: 0.9200 - val_loss: 0.2851\n",
      "Epoch 10/20\n",
      "\u001b[1m1157/1157\u001b[0m \u001b[32m━━━━━━━━━━━━━━━━━━━━\u001b[0m\u001b[37m\u001b[0m \u001b[1m1s\u001b[0m 1ms/step - accuracy: 0.9286 - loss: 0.2373 - val_accuracy: 0.9232 - val_loss: 0.2772\n",
      "Epoch 11/20\n",
      "\u001b[1m1157/1157\u001b[0m \u001b[32m━━━━━━━━━━━━━━━━━━━━\u001b[0m\u001b[37m\u001b[0m \u001b[1m1s\u001b[0m 1ms/step - accuracy: 0.9325 - loss: 0.2228 - val_accuracy: 0.9236 - val_loss: 0.2738\n",
      "Epoch 12/20\n",
      "\u001b[1m1157/1157\u001b[0m \u001b[32m━━━━━━━━━━━━━━━━━━━━\u001b[0m\u001b[37m\u001b[0m \u001b[1m2s\u001b[0m 1ms/step - accuracy: 0.9343 - loss: 0.2156 - val_accuracy: 0.9284 - val_loss: 0.2625\n",
      "Epoch 13/20\n",
      "\u001b[1m1157/1157\u001b[0m \u001b[32m━━━━━━━━━━━━━━━━━━━━\u001b[0m\u001b[37m\u001b[0m \u001b[1m1s\u001b[0m 1ms/step - accuracy: 0.9385 - loss: 0.2113 - val_accuracy: 0.9308 - val_loss: 0.2607\n",
      "Epoch 14/20\n",
      "\u001b[1m1157/1157\u001b[0m \u001b[32m━━━━━━━━━━━━━━━━━━━━\u001b[0m\u001b[37m\u001b[0m \u001b[1m1s\u001b[0m 1ms/step - accuracy: 0.9413 - loss: 0.1961 - val_accuracy: 0.9292 - val_loss: 0.2572\n",
      "Epoch 15/20\n",
      "\u001b[1m1157/1157\u001b[0m \u001b[32m━━━━━━━━━━━━━━━━━━━━\u001b[0m\u001b[37m\u001b[0m \u001b[1m1s\u001b[0m 1ms/step - accuracy: 0.9390 - loss: 0.1994 - val_accuracy: 0.9300 - val_loss: 0.2595\n",
      "Epoch 16/20\n",
      "\u001b[1m1157/1157\u001b[0m \u001b[32m━━━━━━━━━━━━━━━━━━━━\u001b[0m\u001b[37m\u001b[0m \u001b[1m1s\u001b[0m 1ms/step - accuracy: 0.9424 - loss: 0.1891 - val_accuracy: 0.9302 - val_loss: 0.2536\n",
      "Epoch 17/20\n",
      "\u001b[1m1157/1157\u001b[0m \u001b[32m━━━━━━━━━━━━━━━━━━━━\u001b[0m\u001b[37m\u001b[0m \u001b[1m1s\u001b[0m 1ms/step - accuracy: 0.9451 - loss: 0.1775 - val_accuracy: 0.9308 - val_loss: 0.2502\n",
      "Epoch 18/20\n",
      "\u001b[1m1157/1157\u001b[0m \u001b[32m━━━━━━━━━━━━━━━━━━━━\u001b[0m\u001b[37m\u001b[0m \u001b[1m1s\u001b[0m 1ms/step - accuracy: 0.9451 - loss: 0.1841 - val_accuracy: 0.9328 - val_loss: 0.2496\n",
      "Epoch 19/20\n",
      "\u001b[1m1157/1157\u001b[0m \u001b[32m━━━━━━━━━━━━━━━━━━━━\u001b[0m\u001b[37m\u001b[0m \u001b[1m1s\u001b[0m 1ms/step - accuracy: 0.9452 - loss: 0.1780 - val_accuracy: 0.9344 - val_loss: 0.2408\n",
      "Epoch 20/20\n",
      "\u001b[1m1157/1157\u001b[0m \u001b[32m━━━━━━━━━━━━━━━━━━━━\u001b[0m\u001b[37m\u001b[0m \u001b[1m1s\u001b[0m 1ms/step - accuracy: 0.9497 - loss: 0.1642 - val_accuracy: 0.9368 - val_loss: 0.2414\n",
      "\u001b[1m875/875\u001b[0m \u001b[32m━━━━━━━━━━━━━━━━━━━━\u001b[0m\u001b[37m\u001b[0m \u001b[1m1s\u001b[0m 1ms/step\n"
     ]
    }
   ],
   "source": [
    "import tensorflow as tf\n",
    "import keras\n",
    "\n",
    "# Reading train and test data\n",
    "train_data = pd.read_csv('dataset/train.csv')\n",
    "test_data = pd.read_csv('dataset/test.csv')\n",
    "\n",
    "# Class names\n",
    "val_data = train_data.iloc[:5000,:]\n",
    "train_data = train_data.iloc[5000:,:]\n",
    "\n",
    "# Fetching the labels\n",
    "train_labels = train_data.label\n",
    "val_labels = val_data.label\n",
    "\n",
    "# Reshaping training data\n",
    "train_images = train_data.iloc[:,1:].values.reshape(37000, 28, 28)\n",
    "# Reshaping validation data\n",
    "val_images = val_data.iloc[:,1:].values.reshape(5000, 28, 28)\n",
    "\n",
    "# Scaling data in the range of 0-1\n",
    "train_images = train_images/255.0\n",
    "val_images = val_images/255.0\n",
    "\n",
    "# Defining multi-layer perceptron model with 3 hidden layer having 10 neurons each and with non-linearity\n",
    "model = keras.Sequential([\n",
    "    keras.layers.Flatten(input_shape=(28, 28)), # Perform conversion of higher dimensional data (here, 2-D) to 1-D data.\n",
    "    keras.layers.Dense(10, activation=tf.nn.leaky_relu), # Hidden layer with 10 neurons and ReLU activation function\n",
    "    keras.layers.Dense(10, activation=tf.nn.leaky_relu), # Hidden layer with 10 neurons and ReLU activation function\n",
    "    keras.layers.Dense(10, activation=tf.nn.leaky_relu), # Hidden layer with 10 neurons and ReLU activation function\n",
    "    keras.layers.Dense(10, activation=tf.nn.leaky_relu), # Hidden layer with 10 neurons and ReLU activation function\n",
    "    keras.layers.Dense(10, activation=tf.nn.softmax) # Output layer with softmax activation function \n",
    "])\n",
    "# Defining parameters like optimizer, loss function and evaluating metric\n",
    "model.compile(loss='sparse_categorical_crossentropy',\n",
    "              optimizer=keras.optimizers.Adam(),\n",
    "              metrics=['accuracy'])\n",
    "model.fit(train_images, train_labels, epochs=20, validation_data=(val_images, val_labels))\n",
    "\n",
    "\n",
    "test_images = test_data.iloc[:,:].values.reshape(28000, 28, 28)\n",
    "test_images = test_images/255.0\n",
    "\n",
    "output = model.predict(test_images)\n",
    "results = np.argmax(output,axis = 1)\n",
    "results = pd.Series(results,name=\"Label\")\n",
    "\n",
    "submission = pd.concat([pd.Series(range(1,28001),name = \"ImageId\"),results],axis = 1)\n",
    "submission.to_csv(\"submission.csv\",index=False)"
   ]
  },
  {
   "cell_type": "code",
   "execution_count": 15,
   "id": "e534e5ba-1c3a-4c1a-b501-493783b1fefc",
   "metadata": {},
   "outputs": [
    {
     "data": {
      "image/png": "[encoded data removed]",
      "text/plain": [
       "<Figure size 1500x500 with 10 Axes>"
      ]
     },
     "metadata": {},
     "output_type": "display_data"
    }
   ],
   "source": [
    "def visualize_predictions(images, predictions, num_images=10):\n",
    "    plt.figure(figsize=(15, 5))\n",
    "    for i in range(num_images):\n",
    "        plt.subplot(2, num_images // 2, i + 1)\n",
    "        plt.imshow(images[i].reshape(28, 28), cmap='gray')\n",
    "        plt.title(f\"Pred: {predictions[i]}\")\n",
    "        plt.axis('off')\n",
    "    plt.tight_layout()\n",
    "    plt.show()\n",
    "\n",
    "# Visualizing the first 10 test images with their predicted labels\n",
    "visualize_predictions(test_images, results, num_images=10)"
   ]
  }
 ],
 "metadata": {
  "kaggle": {
   "accelerator": "none",
   "dataSources": [
    {
     "databundleVersionId": 861823,
     "sourceId": 3004,
     "sourceType": "competition"
    }
   ],
   "dockerImageVersionId": 30732,
   "isGpuEnabled": false,
   "isInternetEnabled": true,
   "language": "python",
   "sourceType": "notebook"
  },
  "kernelspec": {
   "display_name": "Python 3 (ipykernel)",
   "language": "python",
   "name": "python3"
  },
  "language_info": {
   "codemirror_mode": {
    "name": "ipython",
    "version": 3
   },
   "file_extension": ".py",
   "mimetype": "text/x-python",
   "name": "python",
   "nbconvert_exporter": "python",
   "pygments_lexer": "ipython3",
   "version": "3.11.7"
  },
  "papermill": {
   "default_parameters": {},
   "duration": 91.541794,
   "end_time": "2024-06-14T13:46:02.512564",
   "environment_variables": {},
   "exception": null,
   "input_path": "__notebook__.ipynb",
   "output_path": "__notebook__.ipynb",
   "parameters": {},
   "start_time": "2024-06-14T13:44:30.970770",
   "version": "2.5.0"
  }
 },
 "nbformat": 4,
 "nbformat_minor": 5
}
